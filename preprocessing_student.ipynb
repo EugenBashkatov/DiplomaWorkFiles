{
 "cells": [
  {
   "cell_type": "markdown",
   "metadata": {
    "colab_type": "text",
    "id": "3MBRyGF4WBve"
   },
   "source": [
    "# Лабораторна робота № 1. Попередня обробка даних\n",
    "\n",
    "## Виконав \n",
    "студент групи ППМ-17-1 Башкатов Євген\n",
    "\n",
    "## Мета роботи\n",
    "\n",
    "* Засвоєння базових можливостей мови програмування Python.\n",
    "* Вдосконалення практичних вмінь роботи в середовищі Jupyter.\n",
    "* Отримання навичок з обробки даних, використовуючи Pandas та NumPy.\n"
   ]
  },
  {
   "cell_type": "code",
   "execution_count": 1,
   "metadata": {
    "colab": {},
    "colab_type": "code",
    "id": "OKphMfzYWE37"
   },
   "outputs": [],
   "source": [
    "import numpy as np\n",
    "import pandas as pd\n",
    "\n",
    "import matplotlib.pyplot as plt\n",
    "%matplotlib inline"
   ]
  },
  {
   "cell_type": "markdown",
   "metadata": {
    "colab_type": "text",
    "id": "vGCl2_w-MLQ9"
   },
   "source": [
    "### Етап 1. Збір даних"
   ]
  },
  {
   "cell_type": "markdown",
   "metadata": {
    "colab_type": "text",
    "id": "xn2Aj2dIkZwp"
   },
   "source": [
    "Посилання на датасет https://www.kaggle.com/carolzhangdc/imdb-5000-movie-dataset"
   ]
  },
  {
   "cell_type": "code",
   "execution_count": 2,
   "metadata": {
    "colab": {},
    "colab_type": "code",
    "id": "teWM0VJeW2s_"
   },
   "outputs": [],
   "source": [
    "# Завантажити дані з файлу csv в блок даних pandas (pandas.read_csv)\n",
    "df = pd.read_csv(\"movie_metadata.csv\")"
   ]
  },
  {
   "cell_type": "code",
   "execution_count": 3,
   "metadata": {
    "colab": {},
    "colab_type": "code",
    "id": "e4UpTprlYWkt"
   },
   "outputs": [
    {
     "data": {
      "text/html": [
       "<div>\n",
       "<style scoped>\n",
       "    .dataframe tbody tr th:only-of-type {\n",
       "        vertical-align: middle;\n",
       "    }\n",
       "\n",
       "    .dataframe tbody tr th {\n",
       "        vertical-align: top;\n",
       "    }\n",
       "\n",
       "    .dataframe thead th {\n",
       "        text-align: right;\n",
       "    }\n",
       "</style>\n",
       "<table border=\"1\" class=\"dataframe\">\n",
       "  <thead>\n",
       "    <tr style=\"text-align: right;\">\n",
       "      <th></th>\n",
       "      <th>color</th>\n",
       "      <th>director_name</th>\n",
       "      <th>num_critic_for_reviews</th>\n",
       "      <th>duration</th>\n",
       "      <th>director_facebook_likes</th>\n",
       "      <th>actor_3_facebook_likes</th>\n",
       "      <th>actor_2_name</th>\n",
       "      <th>actor_1_facebook_likes</th>\n",
       "      <th>gross</th>\n",
       "      <th>genres</th>\n",
       "      <th>...</th>\n",
       "      <th>num_user_for_reviews</th>\n",
       "      <th>language</th>\n",
       "      <th>country</th>\n",
       "      <th>content_rating</th>\n",
       "      <th>budget</th>\n",
       "      <th>title_year</th>\n",
       "      <th>actor_2_facebook_likes</th>\n",
       "      <th>imdb_score</th>\n",
       "      <th>aspect_ratio</th>\n",
       "      <th>movie_facebook_likes</th>\n",
       "    </tr>\n",
       "  </thead>\n",
       "  <tbody>\n",
       "    <tr>\n",
       "      <th>0</th>\n",
       "      <td>Color</td>\n",
       "      <td>James Cameron</td>\n",
       "      <td>723.0</td>\n",
       "      <td>178.0</td>\n",
       "      <td>0.0</td>\n",
       "      <td>855.0</td>\n",
       "      <td>Joel David Moore</td>\n",
       "      <td>1000.0</td>\n",
       "      <td>760505847.0</td>\n",
       "      <td>Action|Adventure|Fantasy|Sci-Fi</td>\n",
       "      <td>...</td>\n",
       "      <td>3054.0</td>\n",
       "      <td>English</td>\n",
       "      <td>USA</td>\n",
       "      <td>PG-13</td>\n",
       "      <td>237000000.0</td>\n",
       "      <td>2009.0</td>\n",
       "      <td>936.0</td>\n",
       "      <td>7.9</td>\n",
       "      <td>1.78</td>\n",
       "      <td>33000</td>\n",
       "    </tr>\n",
       "    <tr>\n",
       "      <th>1</th>\n",
       "      <td>Color</td>\n",
       "      <td>Gore Verbinski</td>\n",
       "      <td>302.0</td>\n",
       "      <td>169.0</td>\n",
       "      <td>563.0</td>\n",
       "      <td>1000.0</td>\n",
       "      <td>Orlando Bloom</td>\n",
       "      <td>40000.0</td>\n",
       "      <td>309404152.0</td>\n",
       "      <td>Action|Adventure|Fantasy</td>\n",
       "      <td>...</td>\n",
       "      <td>1238.0</td>\n",
       "      <td>English</td>\n",
       "      <td>USA</td>\n",
       "      <td>PG-13</td>\n",
       "      <td>300000000.0</td>\n",
       "      <td>2007.0</td>\n",
       "      <td>5000.0</td>\n",
       "      <td>7.1</td>\n",
       "      <td>2.35</td>\n",
       "      <td>0</td>\n",
       "    </tr>\n",
       "    <tr>\n",
       "      <th>2</th>\n",
       "      <td>Color</td>\n",
       "      <td>Sam Mendes</td>\n",
       "      <td>602.0</td>\n",
       "      <td>148.0</td>\n",
       "      <td>0.0</td>\n",
       "      <td>161.0</td>\n",
       "      <td>Rory Kinnear</td>\n",
       "      <td>11000.0</td>\n",
       "      <td>200074175.0</td>\n",
       "      <td>Action|Adventure|Thriller</td>\n",
       "      <td>...</td>\n",
       "      <td>994.0</td>\n",
       "      <td>English</td>\n",
       "      <td>UK</td>\n",
       "      <td>PG-13</td>\n",
       "      <td>245000000.0</td>\n",
       "      <td>2015.0</td>\n",
       "      <td>393.0</td>\n",
       "      <td>6.8</td>\n",
       "      <td>2.35</td>\n",
       "      <td>85000</td>\n",
       "    </tr>\n",
       "    <tr>\n",
       "      <th>3</th>\n",
       "      <td>Color</td>\n",
       "      <td>Christopher Nolan</td>\n",
       "      <td>813.0</td>\n",
       "      <td>164.0</td>\n",
       "      <td>22000.0</td>\n",
       "      <td>23000.0</td>\n",
       "      <td>Christian Bale</td>\n",
       "      <td>27000.0</td>\n",
       "      <td>448130642.0</td>\n",
       "      <td>Action|Thriller</td>\n",
       "      <td>...</td>\n",
       "      <td>2701.0</td>\n",
       "      <td>English</td>\n",
       "      <td>USA</td>\n",
       "      <td>PG-13</td>\n",
       "      <td>250000000.0</td>\n",
       "      <td>2012.0</td>\n",
       "      <td>23000.0</td>\n",
       "      <td>8.5</td>\n",
       "      <td>2.35</td>\n",
       "      <td>164000</td>\n",
       "    </tr>\n",
       "    <tr>\n",
       "      <th>4</th>\n",
       "      <td>NaN</td>\n",
       "      <td>Doug Walker</td>\n",
       "      <td>NaN</td>\n",
       "      <td>NaN</td>\n",
       "      <td>131.0</td>\n",
       "      <td>NaN</td>\n",
       "      <td>Rob Walker</td>\n",
       "      <td>131.0</td>\n",
       "      <td>NaN</td>\n",
       "      <td>Documentary</td>\n",
       "      <td>...</td>\n",
       "      <td>NaN</td>\n",
       "      <td>NaN</td>\n",
       "      <td>NaN</td>\n",
       "      <td>NaN</td>\n",
       "      <td>NaN</td>\n",
       "      <td>NaN</td>\n",
       "      <td>12.0</td>\n",
       "      <td>7.1</td>\n",
       "      <td>NaN</td>\n",
       "      <td>0</td>\n",
       "    </tr>\n",
       "    <tr>\n",
       "      <th>5</th>\n",
       "      <td>Color</td>\n",
       "      <td>Andrew Stanton</td>\n",
       "      <td>462.0</td>\n",
       "      <td>132.0</td>\n",
       "      <td>475.0</td>\n",
       "      <td>530.0</td>\n",
       "      <td>Samantha Morton</td>\n",
       "      <td>640.0</td>\n",
       "      <td>73058679.0</td>\n",
       "      <td>Action|Adventure|Sci-Fi</td>\n",
       "      <td>...</td>\n",
       "      <td>738.0</td>\n",
       "      <td>English</td>\n",
       "      <td>USA</td>\n",
       "      <td>PG-13</td>\n",
       "      <td>263700000.0</td>\n",
       "      <td>2012.0</td>\n",
       "      <td>632.0</td>\n",
       "      <td>6.6</td>\n",
       "      <td>2.35</td>\n",
       "      <td>24000</td>\n",
       "    </tr>\n",
       "    <tr>\n",
       "      <th>6</th>\n",
       "      <td>Color</td>\n",
       "      <td>Sam Raimi</td>\n",
       "      <td>392.0</td>\n",
       "      <td>156.0</td>\n",
       "      <td>0.0</td>\n",
       "      <td>4000.0</td>\n",
       "      <td>James Franco</td>\n",
       "      <td>24000.0</td>\n",
       "      <td>336530303.0</td>\n",
       "      <td>Action|Adventure|Romance</td>\n",
       "      <td>...</td>\n",
       "      <td>1902.0</td>\n",
       "      <td>English</td>\n",
       "      <td>USA</td>\n",
       "      <td>PG-13</td>\n",
       "      <td>258000000.0</td>\n",
       "      <td>2007.0</td>\n",
       "      <td>11000.0</td>\n",
       "      <td>6.2</td>\n",
       "      <td>2.35</td>\n",
       "      <td>0</td>\n",
       "    </tr>\n",
       "    <tr>\n",
       "      <th>7</th>\n",
       "      <td>Color</td>\n",
       "      <td>Nathan Greno</td>\n",
       "      <td>324.0</td>\n",
       "      <td>100.0</td>\n",
       "      <td>15.0</td>\n",
       "      <td>284.0</td>\n",
       "      <td>Donna Murphy</td>\n",
       "      <td>799.0</td>\n",
       "      <td>200807262.0</td>\n",
       "      <td>Adventure|Animation|Comedy|Family|Fantasy|Musi...</td>\n",
       "      <td>...</td>\n",
       "      <td>387.0</td>\n",
       "      <td>English</td>\n",
       "      <td>USA</td>\n",
       "      <td>PG</td>\n",
       "      <td>260000000.0</td>\n",
       "      <td>2010.0</td>\n",
       "      <td>553.0</td>\n",
       "      <td>7.8</td>\n",
       "      <td>1.85</td>\n",
       "      <td>29000</td>\n",
       "    </tr>\n",
       "    <tr>\n",
       "      <th>8</th>\n",
       "      <td>Color</td>\n",
       "      <td>Joss Whedon</td>\n",
       "      <td>635.0</td>\n",
       "      <td>141.0</td>\n",
       "      <td>0.0</td>\n",
       "      <td>19000.0</td>\n",
       "      <td>Robert Downey Jr.</td>\n",
       "      <td>26000.0</td>\n",
       "      <td>458991599.0</td>\n",
       "      <td>Action|Adventure|Sci-Fi</td>\n",
       "      <td>...</td>\n",
       "      <td>1117.0</td>\n",
       "      <td>English</td>\n",
       "      <td>USA</td>\n",
       "      <td>PG-13</td>\n",
       "      <td>250000000.0</td>\n",
       "      <td>2015.0</td>\n",
       "      <td>21000.0</td>\n",
       "      <td>7.5</td>\n",
       "      <td>2.35</td>\n",
       "      <td>118000</td>\n",
       "    </tr>\n",
       "    <tr>\n",
       "      <th>9</th>\n",
       "      <td>Color</td>\n",
       "      <td>David Yates</td>\n",
       "      <td>375.0</td>\n",
       "      <td>153.0</td>\n",
       "      <td>282.0</td>\n",
       "      <td>10000.0</td>\n",
       "      <td>Daniel Radcliffe</td>\n",
       "      <td>25000.0</td>\n",
       "      <td>301956980.0</td>\n",
       "      <td>Adventure|Family|Fantasy|Mystery</td>\n",
       "      <td>...</td>\n",
       "      <td>973.0</td>\n",
       "      <td>English</td>\n",
       "      <td>UK</td>\n",
       "      <td>PG</td>\n",
       "      <td>250000000.0</td>\n",
       "      <td>2009.0</td>\n",
       "      <td>11000.0</td>\n",
       "      <td>7.5</td>\n",
       "      <td>2.35</td>\n",
       "      <td>10000</td>\n",
       "    </tr>\n",
       "  </tbody>\n",
       "</table>\n",
       "<p>10 rows × 28 columns</p>\n",
       "</div>"
      ],
      "text/plain": [
       "   color      director_name  num_critic_for_reviews  duration  \\\n",
       "0  Color      James Cameron                   723.0     178.0   \n",
       "1  Color     Gore Verbinski                   302.0     169.0   \n",
       "2  Color         Sam Mendes                   602.0     148.0   \n",
       "3  Color  Christopher Nolan                   813.0     164.0   \n",
       "4    NaN        Doug Walker                     NaN       NaN   \n",
       "5  Color     Andrew Stanton                   462.0     132.0   \n",
       "6  Color          Sam Raimi                   392.0     156.0   \n",
       "7  Color       Nathan Greno                   324.0     100.0   \n",
       "8  Color        Joss Whedon                   635.0     141.0   \n",
       "9  Color        David Yates                   375.0     153.0   \n",
       "\n",
       "   director_facebook_likes  actor_3_facebook_likes       actor_2_name  \\\n",
       "0                      0.0                   855.0   Joel David Moore   \n",
       "1                    563.0                  1000.0      Orlando Bloom   \n",
       "2                      0.0                   161.0       Rory Kinnear   \n",
       "3                  22000.0                 23000.0     Christian Bale   \n",
       "4                    131.0                     NaN         Rob Walker   \n",
       "5                    475.0                   530.0    Samantha Morton   \n",
       "6                      0.0                  4000.0       James Franco   \n",
       "7                     15.0                   284.0       Donna Murphy   \n",
       "8                      0.0                 19000.0  Robert Downey Jr.   \n",
       "9                    282.0                 10000.0   Daniel Radcliffe   \n",
       "\n",
       "   actor_1_facebook_likes        gross  \\\n",
       "0                  1000.0  760505847.0   \n",
       "1                 40000.0  309404152.0   \n",
       "2                 11000.0  200074175.0   \n",
       "3                 27000.0  448130642.0   \n",
       "4                   131.0          NaN   \n",
       "5                   640.0   73058679.0   \n",
       "6                 24000.0  336530303.0   \n",
       "7                   799.0  200807262.0   \n",
       "8                 26000.0  458991599.0   \n",
       "9                 25000.0  301956980.0   \n",
       "\n",
       "                                              genres  ...  \\\n",
       "0                    Action|Adventure|Fantasy|Sci-Fi  ...   \n",
       "1                           Action|Adventure|Fantasy  ...   \n",
       "2                          Action|Adventure|Thriller  ...   \n",
       "3                                    Action|Thriller  ...   \n",
       "4                                        Documentary  ...   \n",
       "5                            Action|Adventure|Sci-Fi  ...   \n",
       "6                           Action|Adventure|Romance  ...   \n",
       "7  Adventure|Animation|Comedy|Family|Fantasy|Musi...  ...   \n",
       "8                            Action|Adventure|Sci-Fi  ...   \n",
       "9                   Adventure|Family|Fantasy|Mystery  ...   \n",
       "\n",
       "  num_user_for_reviews language  country  content_rating       budget  \\\n",
       "0               3054.0  English      USA           PG-13  237000000.0   \n",
       "1               1238.0  English      USA           PG-13  300000000.0   \n",
       "2                994.0  English       UK           PG-13  245000000.0   \n",
       "3               2701.0  English      USA           PG-13  250000000.0   \n",
       "4                  NaN      NaN      NaN             NaN          NaN   \n",
       "5                738.0  English      USA           PG-13  263700000.0   \n",
       "6               1902.0  English      USA           PG-13  258000000.0   \n",
       "7                387.0  English      USA              PG  260000000.0   \n",
       "8               1117.0  English      USA           PG-13  250000000.0   \n",
       "9                973.0  English       UK              PG  250000000.0   \n",
       "\n",
       "   title_year actor_2_facebook_likes imdb_score  aspect_ratio  \\\n",
       "0      2009.0                  936.0        7.9          1.78   \n",
       "1      2007.0                 5000.0        7.1          2.35   \n",
       "2      2015.0                  393.0        6.8          2.35   \n",
       "3      2012.0                23000.0        8.5          2.35   \n",
       "4         NaN                   12.0        7.1           NaN   \n",
       "5      2012.0                  632.0        6.6          2.35   \n",
       "6      2007.0                11000.0        6.2          2.35   \n",
       "7      2010.0                  553.0        7.8          1.85   \n",
       "8      2015.0                21000.0        7.5          2.35   \n",
       "9      2009.0                11000.0        7.5          2.35   \n",
       "\n",
       "  movie_facebook_likes  \n",
       "0                33000  \n",
       "1                    0  \n",
       "2                85000  \n",
       "3               164000  \n",
       "4                    0  \n",
       "5                24000  \n",
       "6                    0  \n",
       "7                29000  \n",
       "8               118000  \n",
       "9                10000  \n",
       "\n",
       "[10 rows x 28 columns]"
      ]
     },
     "execution_count": 3,
     "metadata": {},
     "output_type": "execute_result"
    }
   ],
   "source": [
    "# Роздрукувати перші 10 рядків даних (pandas.DataFrame.head)\n",
    "# TODO\n",
    "\n",
    "df.head(10)"
   ]
  },
  {
   "cell_type": "code",
   "execution_count": 4,
   "metadata": {
    "colab": {},
    "colab_type": "code",
    "id": "m_QrFTzrGQvv"
   },
   "outputs": [
    {
     "data": {
      "text/plain": [
       "<bound method DataFrame.info of       color      director_name  num_critic_for_reviews  duration  \\\n",
       "0     Color      James Cameron                   723.0     178.0   \n",
       "1     Color     Gore Verbinski                   302.0     169.0   \n",
       "2     Color         Sam Mendes                   602.0     148.0   \n",
       "3     Color  Christopher Nolan                   813.0     164.0   \n",
       "4       NaN        Doug Walker                     NaN       NaN   \n",
       "...     ...                ...                     ...       ...   \n",
       "5038  Color        Scott Smith                     1.0      87.0   \n",
       "5039  Color                NaN                    43.0      43.0   \n",
       "5040  Color   Benjamin Roberds                    13.0      76.0   \n",
       "5041  Color        Daniel Hsia                    14.0     100.0   \n",
       "5042  Color           Jon Gunn                    43.0      90.0   \n",
       "\n",
       "      director_facebook_likes  actor_3_facebook_likes      actor_2_name  \\\n",
       "0                         0.0                   855.0  Joel David Moore   \n",
       "1                       563.0                  1000.0     Orlando Bloom   \n",
       "2                         0.0                   161.0      Rory Kinnear   \n",
       "3                     22000.0                 23000.0    Christian Bale   \n",
       "4                       131.0                     NaN        Rob Walker   \n",
       "...                       ...                     ...               ...   \n",
       "5038                      2.0                   318.0     Daphne Zuniga   \n",
       "5039                      NaN                   319.0     Valorie Curry   \n",
       "5040                      0.0                     0.0     Maxwell Moody   \n",
       "5041                      0.0                   489.0     Daniel Henney   \n",
       "5042                     16.0                    16.0  Brian Herzlinger   \n",
       "\n",
       "      actor_1_facebook_likes        gross                           genres  \\\n",
       "0                     1000.0  760505847.0  Action|Adventure|Fantasy|Sci-Fi   \n",
       "1                    40000.0  309404152.0         Action|Adventure|Fantasy   \n",
       "2                    11000.0  200074175.0        Action|Adventure|Thriller   \n",
       "3                    27000.0  448130642.0                  Action|Thriller   \n",
       "4                      131.0          NaN                      Documentary   \n",
       "...                      ...          ...                              ...   \n",
       "5038                   637.0          NaN                     Comedy|Drama   \n",
       "5039                   841.0          NaN     Crime|Drama|Mystery|Thriller   \n",
       "5040                     0.0          NaN            Drama|Horror|Thriller   \n",
       "5041                   946.0      10443.0             Comedy|Drama|Romance   \n",
       "5042                    86.0      85222.0                      Documentary   \n",
       "\n",
       "      ... num_user_for_reviews language  country  content_rating       budget  \\\n",
       "0     ...               3054.0  English      USA           PG-13  237000000.0   \n",
       "1     ...               1238.0  English      USA           PG-13  300000000.0   \n",
       "2     ...                994.0  English       UK           PG-13  245000000.0   \n",
       "3     ...               2701.0  English      USA           PG-13  250000000.0   \n",
       "4     ...                  NaN      NaN      NaN             NaN          NaN   \n",
       "...   ...                  ...      ...      ...             ...          ...   \n",
       "5038  ...                  6.0  English   Canada             NaN          NaN   \n",
       "5039  ...                359.0  English      USA           TV-14          NaN   \n",
       "5040  ...                  3.0  English      USA             NaN       1400.0   \n",
       "5041  ...                  9.0  English      USA           PG-13          NaN   \n",
       "5042  ...                 84.0  English      USA              PG       1100.0   \n",
       "\n",
       "      title_year actor_2_facebook_likes imdb_score  aspect_ratio  \\\n",
       "0         2009.0                  936.0        7.9          1.78   \n",
       "1         2007.0                 5000.0        7.1          2.35   \n",
       "2         2015.0                  393.0        6.8          2.35   \n",
       "3         2012.0                23000.0        8.5          2.35   \n",
       "4            NaN                   12.0        7.1           NaN   \n",
       "...          ...                    ...        ...           ...   \n",
       "5038      2013.0                  470.0        7.7           NaN   \n",
       "5039         NaN                  593.0        7.5         16.00   \n",
       "5040      2013.0                    0.0        6.3           NaN   \n",
       "5041      2012.0                  719.0        6.3          2.35   \n",
       "5042      2004.0                   23.0        6.6          1.85   \n",
       "\n",
       "     movie_facebook_likes  \n",
       "0                   33000  \n",
       "1                       0  \n",
       "2                   85000  \n",
       "3                  164000  \n",
       "4                       0  \n",
       "...                   ...  \n",
       "5038                   84  \n",
       "5039                32000  \n",
       "5040                   16  \n",
       "5041                  660  \n",
       "5042                  456  \n",
       "\n",
       "[5043 rows x 28 columns]>"
      ]
     },
     "execution_count": 4,
     "metadata": {},
     "output_type": "execute_result"
    }
   ],
   "source": [
    "# Вивести інформацію про набір даних (pandas.DataFrame.info)\n",
    "# TODO\n",
    "df.info"
   ]
  },
  {
   "cell_type": "markdown",
   "metadata": {
    "colab_type": "text",
    "id": "WSkb_1E33VE9"
   },
   "source": [
    "**Описати який тип даних має кожен стовпець, до якого типу ознак належить (числові, порядкові або категоріальні) та зробити висновки про кількість  пропущених даних**\n",
    "\n",
    "movie_title - Назва фільму (Строка, тип категоріальні)\n",
    "duration - Тривалість у хвилинах (Число, тип числові)\n",
    "direction_name - Ім'я режисера (Строка, категоріальні)\n",
    "direction_facebook_likes - Кількість лайків на сторінці режисера у Facebook (Число, тип числові)\n",
    "actor_1_name - Ім'я головного (1го) актора, що знімався у фільмі (Строка, категоріальні)\n",
    "actor_1_facebook_likes - Кількість лайків на сторінці 1го актора у Facebook (Число, тип числові)\n",
    "actor_2_name - Ім'я другого актора (Строка, категоріальні)\n",
    "actor_2_facebook_likes - Кількість лайків на сторінці 2го актора у Facebook (Число, тип числові)\n",
    "actor_3_name - Ім'я третього актора (Строка, категоріальні)\n",
    "actor_3_facebook_likes - Кількість лайків на сторінці 3го актора у Facebook (Число, тип числові)\n",
    "num_user_for_reviews - Кількість користувачів, що залишили відгук (Число, тип числові)\n",
    "num_critic_for reviews - Кількість відгуків критиків на IMDb (Число, тип числові)\n",
    "num_voted_users - Кількість людей, що проголосувало за цей фільм (Число, тип числові)\n",
    "cats_total_facebook_likes - Загальна кількість лайків акторів на Facebook (Число, тип числові)\n",
    "movie_facebook_likes - Кількість лайків на сторінці фільму у Facebook (Число, тип числові)\n",
    "plot_keywords - Ключові слова, що описують сюжет фільму (Строка, категоріальні)\n",
    "facenumber_in_poster - Номер актора, який фігурував у афіші фільму (Число, порядкові)\n",
    "color - Колір фільму (Строка, категоріальні)\n",
    "genres - Категорія фільму (Строка, категоріальні)\n",
    "title_year - Рік випуску фільму (1916:2016) (Число, порядкові)\n",
    "language - Мова (Строка, категоріальні)\n",
    "country - Країна, де було випущено фільм (Строка, категоріальні)\n",
    "content_rating - Рейтинг вмісту фільму (Строка, категоріальні)\n",
    "aspect_ratio - Співвідношення сторін фільму (Число, числові?)\n",
    "movie_imdb_link - Посилання на IMDb сторінку фільму (Строка, категоріальні)\n",
    "gross - Валовий заробіток фільму в доларах (Число, числові)\n",
    "budget - Бюджет фільму в доларах (Число, числові)\n",
    "imdb_score - Оцінка IMDb (Число, порядкові)\n",
    "TODO"
   ]
  },
  {
   "cell_type": "code",
   "execution_count": 5,
   "metadata": {
    "colab": {},
    "colab_type": "code",
    "id": "B5xBpZok6SQ8"
   },
   "outputs": [],
   "source": [
    "# Навести статистику: \n",
    "# - кількість записів, рядків та стовпців (pandas.DataFrame.size, pandas.DataFrame.shape)\n",
    "# - за кожним числовим стовпцем - середнє, \n",
    "#     середньоквадратичний відхил, мінімум, максимум (pandas.DataFrame.describe(include=[np.number]))\n",
    "# - за кожним нечисловим стовпцем: \n",
    "#     значення, що зустрічається найчастіше та її частоту (pandas.DataFrame.describe(include=[np.object]))\n",
    "# TODO\n"
   ]
  },
  {
   "cell_type": "code",
   "execution_count": 6,
   "metadata": {
    "colab": {},
    "colab_type": "code",
    "id": "B5xBpZok6SQ8"
   },
   "outputs": [
    {
     "name": "stdout",
     "output_type": "stream",
     "text": [
      "Кол-во записей: 141204\n"
     ]
    }
   ],
   "source": [
    "print('Кол-во записей:', df.size)"
   ]
  },
  {
   "cell_type": "code",
   "execution_count": 7,
   "metadata": {
    "colab": {},
    "colab_type": "code",
    "id": "B5xBpZok6SQ8"
   },
   "outputs": [
    {
     "name": "stdout",
     "output_type": "stream",
     "text": [
      "Кол-во строк: 5043 ; Кол-во столбцов: 28\n"
     ]
    }
   ],
   "source": [
    "print('Кол-во строк:',df.shape[0], '; Кол-во столбцов:',df.shape[1])"
   ]
  },
  {
   "cell_type": "code",
   "execution_count": 8,
   "metadata": {
    "colab": {},
    "colab_type": "code",
    "id": "B5xBpZok6SQ8"
   },
   "outputs": [
    {
     "data": {
      "text/html": [
       "<div>\n",
       "<style scoped>\n",
       "    .dataframe tbody tr th:only-of-type {\n",
       "        vertical-align: middle;\n",
       "    }\n",
       "\n",
       "    .dataframe tbody tr th {\n",
       "        vertical-align: top;\n",
       "    }\n",
       "\n",
       "    .dataframe thead th {\n",
       "        text-align: right;\n",
       "    }\n",
       "</style>\n",
       "<table border=\"1\" class=\"dataframe\">\n",
       "  <thead>\n",
       "    <tr style=\"text-align: right;\">\n",
       "      <th></th>\n",
       "      <th>num_critic_for_reviews</th>\n",
       "      <th>duration</th>\n",
       "      <th>director_facebook_likes</th>\n",
       "      <th>actor_3_facebook_likes</th>\n",
       "      <th>actor_1_facebook_likes</th>\n",
       "      <th>gross</th>\n",
       "      <th>num_voted_users</th>\n",
       "      <th>cast_total_facebook_likes</th>\n",
       "      <th>facenumber_in_poster</th>\n",
       "      <th>num_user_for_reviews</th>\n",
       "      <th>budget</th>\n",
       "      <th>title_year</th>\n",
       "      <th>actor_2_facebook_likes</th>\n",
       "      <th>imdb_score</th>\n",
       "      <th>aspect_ratio</th>\n",
       "      <th>movie_facebook_likes</th>\n",
       "    </tr>\n",
       "  </thead>\n",
       "  <tbody>\n",
       "    <tr>\n",
       "      <th>count</th>\n",
       "      <td>4993.000000</td>\n",
       "      <td>5028.000000</td>\n",
       "      <td>4939.000000</td>\n",
       "      <td>5020.000000</td>\n",
       "      <td>5036.000000</td>\n",
       "      <td>4.159000e+03</td>\n",
       "      <td>5.043000e+03</td>\n",
       "      <td>5043.000000</td>\n",
       "      <td>5030.000000</td>\n",
       "      <td>5022.000000</td>\n",
       "      <td>4.551000e+03</td>\n",
       "      <td>4935.000000</td>\n",
       "      <td>5030.000000</td>\n",
       "      <td>5043.000000</td>\n",
       "      <td>4714.000000</td>\n",
       "      <td>5043.000000</td>\n",
       "    </tr>\n",
       "    <tr>\n",
       "      <th>mean</th>\n",
       "      <td>140.194272</td>\n",
       "      <td>107.201074</td>\n",
       "      <td>686.509212</td>\n",
       "      <td>645.009761</td>\n",
       "      <td>6560.047061</td>\n",
       "      <td>4.846841e+07</td>\n",
       "      <td>8.366816e+04</td>\n",
       "      <td>9699.063851</td>\n",
       "      <td>1.371173</td>\n",
       "      <td>272.770808</td>\n",
       "      <td>3.975262e+07</td>\n",
       "      <td>2002.470517</td>\n",
       "      <td>1651.754473</td>\n",
       "      <td>6.442138</td>\n",
       "      <td>2.220403</td>\n",
       "      <td>7525.964505</td>\n",
       "    </tr>\n",
       "    <tr>\n",
       "      <th>std</th>\n",
       "      <td>121.601675</td>\n",
       "      <td>25.197441</td>\n",
       "      <td>2813.328607</td>\n",
       "      <td>1665.041728</td>\n",
       "      <td>15020.759120</td>\n",
       "      <td>6.845299e+07</td>\n",
       "      <td>1.384853e+05</td>\n",
       "      <td>18163.799124</td>\n",
       "      <td>2.013576</td>\n",
       "      <td>377.982886</td>\n",
       "      <td>2.061149e+08</td>\n",
       "      <td>12.474599</td>\n",
       "      <td>4042.438863</td>\n",
       "      <td>1.125116</td>\n",
       "      <td>1.385113</td>\n",
       "      <td>19320.445110</td>\n",
       "    </tr>\n",
       "    <tr>\n",
       "      <th>min</th>\n",
       "      <td>1.000000</td>\n",
       "      <td>7.000000</td>\n",
       "      <td>0.000000</td>\n",
       "      <td>0.000000</td>\n",
       "      <td>0.000000</td>\n",
       "      <td>1.620000e+02</td>\n",
       "      <td>5.000000e+00</td>\n",
       "      <td>0.000000</td>\n",
       "      <td>0.000000</td>\n",
       "      <td>1.000000</td>\n",
       "      <td>2.180000e+02</td>\n",
       "      <td>1916.000000</td>\n",
       "      <td>0.000000</td>\n",
       "      <td>1.600000</td>\n",
       "      <td>1.180000</td>\n",
       "      <td>0.000000</td>\n",
       "    </tr>\n",
       "    <tr>\n",
       "      <th>25%</th>\n",
       "      <td>50.000000</td>\n",
       "      <td>93.000000</td>\n",
       "      <td>7.000000</td>\n",
       "      <td>133.000000</td>\n",
       "      <td>614.000000</td>\n",
       "      <td>5.340988e+06</td>\n",
       "      <td>8.593500e+03</td>\n",
       "      <td>1411.000000</td>\n",
       "      <td>0.000000</td>\n",
       "      <td>65.000000</td>\n",
       "      <td>6.000000e+06</td>\n",
       "      <td>1999.000000</td>\n",
       "      <td>281.000000</td>\n",
       "      <td>5.800000</td>\n",
       "      <td>1.850000</td>\n",
       "      <td>0.000000</td>\n",
       "    </tr>\n",
       "    <tr>\n",
       "      <th>50%</th>\n",
       "      <td>110.000000</td>\n",
       "      <td>103.000000</td>\n",
       "      <td>49.000000</td>\n",
       "      <td>371.500000</td>\n",
       "      <td>988.000000</td>\n",
       "      <td>2.551750e+07</td>\n",
       "      <td>3.435900e+04</td>\n",
       "      <td>3090.000000</td>\n",
       "      <td>1.000000</td>\n",
       "      <td>156.000000</td>\n",
       "      <td>2.000000e+07</td>\n",
       "      <td>2005.000000</td>\n",
       "      <td>595.000000</td>\n",
       "      <td>6.600000</td>\n",
       "      <td>2.350000</td>\n",
       "      <td>166.000000</td>\n",
       "    </tr>\n",
       "    <tr>\n",
       "      <th>75%</th>\n",
       "      <td>195.000000</td>\n",
       "      <td>118.000000</td>\n",
       "      <td>194.500000</td>\n",
       "      <td>636.000000</td>\n",
       "      <td>11000.000000</td>\n",
       "      <td>6.230944e+07</td>\n",
       "      <td>9.630900e+04</td>\n",
       "      <td>13756.500000</td>\n",
       "      <td>2.000000</td>\n",
       "      <td>326.000000</td>\n",
       "      <td>4.500000e+07</td>\n",
       "      <td>2011.000000</td>\n",
       "      <td>918.000000</td>\n",
       "      <td>7.200000</td>\n",
       "      <td>2.350000</td>\n",
       "      <td>3000.000000</td>\n",
       "    </tr>\n",
       "    <tr>\n",
       "      <th>max</th>\n",
       "      <td>813.000000</td>\n",
       "      <td>511.000000</td>\n",
       "      <td>23000.000000</td>\n",
       "      <td>23000.000000</td>\n",
       "      <td>640000.000000</td>\n",
       "      <td>7.605058e+08</td>\n",
       "      <td>1.689764e+06</td>\n",
       "      <td>656730.000000</td>\n",
       "      <td>43.000000</td>\n",
       "      <td>5060.000000</td>\n",
       "      <td>1.221550e+10</td>\n",
       "      <td>2016.000000</td>\n",
       "      <td>137000.000000</td>\n",
       "      <td>9.500000</td>\n",
       "      <td>16.000000</td>\n",
       "      <td>349000.000000</td>\n",
       "    </tr>\n",
       "  </tbody>\n",
       "</table>\n",
       "</div>"
      ],
      "text/plain": [
       "       num_critic_for_reviews     duration  director_facebook_likes  \\\n",
       "count             4993.000000  5028.000000              4939.000000   \n",
       "mean               140.194272   107.201074               686.509212   \n",
       "std                121.601675    25.197441              2813.328607   \n",
       "min                  1.000000     7.000000                 0.000000   \n",
       "25%                 50.000000    93.000000                 7.000000   \n",
       "50%                110.000000   103.000000                49.000000   \n",
       "75%                195.000000   118.000000               194.500000   \n",
       "max                813.000000   511.000000             23000.000000   \n",
       "\n",
       "       actor_3_facebook_likes  actor_1_facebook_likes         gross  \\\n",
       "count             5020.000000             5036.000000  4.159000e+03   \n",
       "mean               645.009761             6560.047061  4.846841e+07   \n",
       "std               1665.041728            15020.759120  6.845299e+07   \n",
       "min                  0.000000                0.000000  1.620000e+02   \n",
       "25%                133.000000              614.000000  5.340988e+06   \n",
       "50%                371.500000              988.000000  2.551750e+07   \n",
       "75%                636.000000            11000.000000  6.230944e+07   \n",
       "max              23000.000000           640000.000000  7.605058e+08   \n",
       "\n",
       "       num_voted_users  cast_total_facebook_likes  facenumber_in_poster  \\\n",
       "count     5.043000e+03                5043.000000           5030.000000   \n",
       "mean      8.366816e+04                9699.063851              1.371173   \n",
       "std       1.384853e+05               18163.799124              2.013576   \n",
       "min       5.000000e+00                   0.000000              0.000000   \n",
       "25%       8.593500e+03                1411.000000              0.000000   \n",
       "50%       3.435900e+04                3090.000000              1.000000   \n",
       "75%       9.630900e+04               13756.500000              2.000000   \n",
       "max       1.689764e+06              656730.000000             43.000000   \n",
       "\n",
       "       num_user_for_reviews        budget   title_year  \\\n",
       "count           5022.000000  4.551000e+03  4935.000000   \n",
       "mean             272.770808  3.975262e+07  2002.470517   \n",
       "std              377.982886  2.061149e+08    12.474599   \n",
       "min                1.000000  2.180000e+02  1916.000000   \n",
       "25%               65.000000  6.000000e+06  1999.000000   \n",
       "50%              156.000000  2.000000e+07  2005.000000   \n",
       "75%              326.000000  4.500000e+07  2011.000000   \n",
       "max             5060.000000  1.221550e+10  2016.000000   \n",
       "\n",
       "       actor_2_facebook_likes   imdb_score  aspect_ratio  movie_facebook_likes  \n",
       "count             5030.000000  5043.000000   4714.000000           5043.000000  \n",
       "mean              1651.754473     6.442138      2.220403           7525.964505  \n",
       "std               4042.438863     1.125116      1.385113          19320.445110  \n",
       "min                  0.000000     1.600000      1.180000              0.000000  \n",
       "25%                281.000000     5.800000      1.850000              0.000000  \n",
       "50%                595.000000     6.600000      2.350000            166.000000  \n",
       "75%                918.000000     7.200000      2.350000           3000.000000  \n",
       "max             137000.000000     9.500000     16.000000         349000.000000  "
      ]
     },
     "execution_count": 8,
     "metadata": {},
     "output_type": "execute_result"
    }
   ],
   "source": [
    "df.describe(include=[np.number])"
   ]
  },
  {
   "cell_type": "code",
   "execution_count": 9,
   "metadata": {
    "colab": {},
    "colab_type": "code",
    "id": "B5xBpZok6SQ8"
   },
   "outputs": [
    {
     "data": {
      "text/html": [
       "<div>\n",
       "<style scoped>\n",
       "    .dataframe tbody tr th:only-of-type {\n",
       "        vertical-align: middle;\n",
       "    }\n",
       "\n",
       "    .dataframe tbody tr th {\n",
       "        vertical-align: top;\n",
       "    }\n",
       "\n",
       "    .dataframe thead th {\n",
       "        text-align: right;\n",
       "    }\n",
       "</style>\n",
       "<table border=\"1\" class=\"dataframe\">\n",
       "  <thead>\n",
       "    <tr style=\"text-align: right;\">\n",
       "      <th></th>\n",
       "      <th>color</th>\n",
       "      <th>director_name</th>\n",
       "      <th>actor_2_name</th>\n",
       "      <th>genres</th>\n",
       "      <th>actor_1_name</th>\n",
       "      <th>movie_title</th>\n",
       "      <th>actor_3_name</th>\n",
       "      <th>plot_keywords</th>\n",
       "      <th>movie_imdb_link</th>\n",
       "      <th>language</th>\n",
       "      <th>country</th>\n",
       "      <th>content_rating</th>\n",
       "    </tr>\n",
       "  </thead>\n",
       "  <tbody>\n",
       "    <tr>\n",
       "      <th>count</th>\n",
       "      <td>5024</td>\n",
       "      <td>4939</td>\n",
       "      <td>5030</td>\n",
       "      <td>5043</td>\n",
       "      <td>5036</td>\n",
       "      <td>5043</td>\n",
       "      <td>5020</td>\n",
       "      <td>4890</td>\n",
       "      <td>5043</td>\n",
       "      <td>5031</td>\n",
       "      <td>5038</td>\n",
       "      <td>4740</td>\n",
       "    </tr>\n",
       "    <tr>\n",
       "      <th>unique</th>\n",
       "      <td>2</td>\n",
       "      <td>2398</td>\n",
       "      <td>3032</td>\n",
       "      <td>914</td>\n",
       "      <td>2097</td>\n",
       "      <td>4917</td>\n",
       "      <td>3521</td>\n",
       "      <td>4760</td>\n",
       "      <td>4919</td>\n",
       "      <td>47</td>\n",
       "      <td>65</td>\n",
       "      <td>18</td>\n",
       "    </tr>\n",
       "    <tr>\n",
       "      <th>top</th>\n",
       "      <td>Color</td>\n",
       "      <td>Steven Spielberg</td>\n",
       "      <td>Morgan Freeman</td>\n",
       "      <td>Drama</td>\n",
       "      <td>Robert De Niro</td>\n",
       "      <td>King Kong</td>\n",
       "      <td>Ben Mendelsohn</td>\n",
       "      <td>based on novel</td>\n",
       "      <td>http://www.imdb.com/title/tt1976009/?ref_=fn_t...</td>\n",
       "      <td>English</td>\n",
       "      <td>USA</td>\n",
       "      <td>R</td>\n",
       "    </tr>\n",
       "    <tr>\n",
       "      <th>freq</th>\n",
       "      <td>4815</td>\n",
       "      <td>26</td>\n",
       "      <td>20</td>\n",
       "      <td>236</td>\n",
       "      <td>49</td>\n",
       "      <td>3</td>\n",
       "      <td>8</td>\n",
       "      <td>4</td>\n",
       "      <td>3</td>\n",
       "      <td>4704</td>\n",
       "      <td>3807</td>\n",
       "      <td>2118</td>\n",
       "    </tr>\n",
       "  </tbody>\n",
       "</table>\n",
       "</div>"
      ],
      "text/plain": [
       "        color     director_name    actor_2_name genres    actor_1_name  \\\n",
       "count    5024              4939            5030   5043            5036   \n",
       "unique      2              2398            3032    914            2097   \n",
       "top     Color  Steven Spielberg  Morgan Freeman  Drama  Robert De Niro   \n",
       "freq     4815                26              20    236              49   \n",
       "\n",
       "       movie_title    actor_3_name   plot_keywords  \\\n",
       "count         5043            5020            4890   \n",
       "unique        4917            3521            4760   \n",
       "top     King Kong   Ben Mendelsohn  based on novel   \n",
       "freq             3               8               4   \n",
       "\n",
       "                                          movie_imdb_link language country  \\\n",
       "count                                                5043     5031    5038   \n",
       "unique                                               4919       47      65   \n",
       "top     http://www.imdb.com/title/tt1976009/?ref_=fn_t...  English     USA   \n",
       "freq                                                    3     4704    3807   \n",
       "\n",
       "       content_rating  \n",
       "count            4740  \n",
       "unique             18  \n",
       "top                 R  \n",
       "freq             2118  "
      ]
     },
     "execution_count": 9,
     "metadata": {},
     "output_type": "execute_result"
    }
   ],
   "source": [
    "df.describe(include=[np.object])"
   ]
  },
  {
   "cell_type": "code",
   "execution_count": 10,
   "metadata": {
    "colab": {},
    "colab_type": "code",
    "id": "RAlP5BSr7Pf8"
   },
   "outputs": [
    {
     "name": "stderr",
     "output_type": "stream",
     "text": [
      "C:\\Users\\user\\anaconda3\\lib\\site-packages\\numpy\\lib\\histograms.py:839: RuntimeWarning: invalid value encountered in greater_equal\n",
      "  keep = (tmp_a >= first_edge)\n",
      "C:\\Users\\user\\anaconda3\\lib\\site-packages\\numpy\\lib\\histograms.py:840: RuntimeWarning: invalid value encountered in less_equal\n",
      "  keep &= (tmp_a <= last_edge)\n"
     ]
    },
    {
     "data": {
      "image/png": "[encoded data removed]",
      "text/plain": [
       "<Figure size 1080x3600 with 16 Axes>"
      ]
     },
     "metadata": {
      "needs_background": "light"
     },
     "output_type": "display_data"
    }
   ],
   "source": [
    "# Побудувати гістограму розподілу для усіх числових значень (matplotlib.pyplot.hist)\n",
    "\n",
    "ncols = 2\n",
    "nrows = 8\n",
    "fig, axes = plt.subplots(nrows=nrows, ncols=ncols, figsize=(15, 50))\n",
    "\n",
    "i = 0\n",
    "j = 0\n",
    "for counter in range(len(df.columns)):\n",
    "    if pd.api.types.is_numeric_dtype(df[df.columns[counter]]):\n",
    "        \n",
    "        ax = axes[i][j]\n",
    "        ax.set_title(df.columns[counter])\n",
    "        ax.hist(df[df.columns[counter]])\n",
    "\n",
    "        j += 1\n",
    "        if j == ncols:\n",
    "            j = 0\n",
    "            i += 1"
   ]
  },
  {
   "cell_type": "markdown",
   "metadata": {
    "colab_type": "text",
    "id": "TvkXFZnU4BEd"
   },
   "source": [
    "**Зробити висновки про ймовірний розподіл**\n",
    "Нормальное распределение: imdb_score, duration.\n",
    "(year = ?????)\n",
    "Все остальные = геометрическое распределение.\n",
    "Однако, стоит учесть, что можно выбрать более точное распределение, если провести дополнительные исследования каждого свойства.\n",
    "TODO"
   ]
  },
  {
   "cell_type": "markdown",
   "metadata": {
    "colab_type": "text",
    "id": "gBq1IYl9RENn"
   },
   "source": [
    "### Етап 2. Пошук зв'язків"
   ]
  },
  {
   "cell_type": "code",
   "execution_count": 11,
   "metadata": {
    "colab": {},
    "colab_type": "code",
    "id": "N6da1aEKR6uK"
   },
   "outputs": [
    {
     "data": {
      "text/plain": [
       "imdb_score                   1.000000\n",
       "num_voted_users              0.410965\n",
       "num_critic_for_reviews       0.305303\n",
       "num_user_for_reviews         0.292475\n",
       "duration                     0.261662\n",
       "movie_facebook_likes         0.247049\n",
       "gross                        0.198021\n",
       "director_facebook_likes      0.170802\n",
       "cast_total_facebook_likes    0.085787\n",
       "actor_2_facebook_likes       0.083808\n",
       "actor_1_facebook_likes       0.076099\n",
       "aspect_ratio                 0.059445\n",
       "actor_3_facebook_likes       0.052633\n",
       "budget                       0.030688\n",
       "facenumber_in_poster        -0.062958\n",
       "title_year                  -0.209167\n",
       "Name: imdb_score, dtype: float64"
      ]
     },
     "execution_count": 11,
     "metadata": {},
     "output_type": "execute_result"
    }
   ],
   "source": [
    "# Обчислити матрицю кореляції між числовими ознаками та рейтингом IMDb\n",
    "corr_matrix = df.corr()\n",
    "corr_matrix['imdb_score'].sort_values(ascending=False)"
   ]
  },
  {
   "cell_type": "code",
   "execution_count": 12,
   "metadata": {
    "colab": {},
    "colab_type": "code",
    "id": "IRrNzUqjofcg"
   },
   "outputs": [
    {
     "data": {
      "text/plain": [
       "<matplotlib.axes._subplots.AxesSubplot at 0x1aa77b87160>"
      ]
     },
     "execution_count": 12,
     "metadata": {},
     "output_type": "execute_result"
    },
    {
     "data": {
      "image/png": "[encoded data removed]",
      "text/plain": [
       "<Figure size 1080x1080 with 2 Axes>"
      ]
     },
     "metadata": {
      "needs_background": "light"
     },
     "output_type": "display_data"
    }
   ],
   "source": [
    "# Побудувати мапу висот кореляційної матриці та зрозуміти її інтерпретацію (\\verb|seaborn.heatmap|)\n",
    "import seaborn as sns\n",
    "plt.figure(figsize=(15, 15))\n",
    "sns.heatmap(df.corr(), vmin=-1, vmax=1, square=True, center=0, \n",
    "            robust = True, cmap=\"YlGnBu\", annot=True)"
   ]
  },
  {
   "cell_type": "markdown",
   "metadata": {
    "colab_type": "text",
    "id": "Fj5Eb8FR4PcM"
   },
   "source": [
    "**Які висновки можна зробити? Запишіть їх**\n",
    "\n",
    "TODO\n",
    "Глядя на карту высот, можно увидеть некоторые закономерности. Так, зависимости соотношения сторон фильма ко всем остальным свойствам близки к нулю. Точно такой же вывод можно сделать в отношении номера актера в афише (facenumber_in_poster). А вот ситуация с бюджетом фильма немного сложнее. Связь бюджета с валовым зароботком фильма и количеством отзывов критиков скорее есть, чем нет, хоть и достаточно слабая. Это можно объяснить ажиотажем вокруг цены фильма (как пример, фильм Аватар, одним из главных козырей которого была его стоимость). В остальном же, связей с другими параметрами нет.\n",
    "\n",
    "Основная видимая проблема, которую стоит решить до обучения модели, это наличие сильных связей (0.6-0.95). Это негативно отразится на обучении, приведет к переобученности модели."
   ]
  },
  {
   "cell_type": "markdown",
   "metadata": {
    "colab_type": "text",
    "id": "GMgtyjivMfJV"
   },
   "source": [
    "### Етап 3. Обробка відсутніх даних"
   ]
  },
  {
   "cell_type": "code",
   "execution_count": 13,
   "metadata": {
    "colab": {},
    "colab_type": "code",
    "id": "8ELtcVqRhw1y"
   },
   "outputs": [],
   "source": [
    "# Для спрощення обрати одну категоріальну ознаку (content_rating),\n",
    "# інші видалити (pandas.DataFrame._get_numeric_data)\n",
    "df_clean = df._get_numeric_data()\n",
    "df_clean[['content_rating']] = df[['content_rating']]"
   ]
  },
  {
   "cell_type": "code",
   "execution_count": 14,
   "metadata": {
    "colab": {},
    "colab_type": "code",
    "id": "RdX69VjjYesF"
   },
   "outputs": [
    {
     "data": {
      "text/plain": [
       "True"
      ]
     },
     "execution_count": 14,
     "metadata": {},
     "output_type": "execute_result"
    }
   ],
   "source": [
    "# Перевірити дані на наявність незаповнених значень, тобто null-значень (pandas.DataFrame.isnull().values.any())\n",
    "# TODO\n",
    "df.isnull().values.any()"
   ]
  },
  {
   "cell_type": "code",
   "execution_count": 15,
   "metadata": {
    "colab": {},
    "colab_type": "code",
    "id": "UrStcJC40vfz"
   },
   "outputs": [
    {
     "data": {
      "text/plain": [
       "color                         19\n",
       "director_name                104\n",
       "num_critic_for_reviews        50\n",
       "duration                      15\n",
       "director_facebook_likes      104\n",
       "actor_3_facebook_likes        23\n",
       "actor_2_name                  13\n",
       "actor_1_facebook_likes         7\n",
       "gross                        884\n",
       "genres                         0\n",
       "actor_1_name                   7\n",
       "movie_title                    0\n",
       "num_voted_users                0\n",
       "cast_total_facebook_likes      0\n",
       "actor_3_name                  23\n",
       "facenumber_in_poster          13\n",
       "plot_keywords                153\n",
       "movie_imdb_link                0\n",
       "num_user_for_reviews          21\n",
       "language                      12\n",
       "country                        5\n",
       "content_rating               303\n",
       "budget                       492\n",
       "title_year                   108\n",
       "actor_2_facebook_likes        13\n",
       "imdb_score                     0\n",
       "aspect_ratio                 329\n",
       "movie_facebook_likes           0\n",
       "dtype: int64"
      ]
     },
     "execution_count": 15,
     "metadata": {},
     "output_type": "execute_result"
    }
   ],
   "source": [
    "# Роздрукувати суму відсутніх даних за кожною ознакою (стовпцем) (pandas.DataFrame.isnull().sum())\n",
    "# TODO\n",
    "df.isnull().sum()"
   ]
  },
  {
   "cell_type": "code",
   "execution_count": 16,
   "metadata": {
    "colab": {},
    "colab_type": "code",
    "id": "pcq_-yFgY2np"
   },
   "outputs": [],
   "source": [
    "# Замінити пропущені числові дані на середнє значення по стовпцям num_critic_for_reviews, \n",
    "# aspect_ratio, num_user_for_reviews, duration, title_year, director_facebook_likes,\n",
    "# використовуючи sklearn.impute.SimpleImputer, \n",
    "# а по іншим та в категоріальних -- видалити сам запис (pandas.DataFrame.dropna)\n",
    "\n",
    "from sklearn.impute import SimpleImputer\n",
    "imp = SimpleImputer(missing_values=np.nan, strategy='mean')\n",
    "\n",
    "df_clean[['num_critic_for_reviews']] = imp.fit_transform(df[['num_critic_for_reviews']])\n",
    "df_clean[['aspect_ratio']] = imp.fit_transform(df[['aspect_ratio']])\n",
    "df_clean[['num_user_for_reviews']] = imp.fit_transform(df[['num_user_for_reviews']])\n",
    "df_clean[['duration']] = imp.fit_transform(df[['duration']])\n",
    "df_clean[['title_year']] = imp.fit_transform(df[['title_year']])\n",
    "df_clean[['director_facebook_likes']] = imp.fit_transform(df[['director_facebook_likes']])\n",
    "\n",
    "# І так далі для інших стовпців. Або знайдіть спосіб краще.\n",
    "# TODO\n",
    "\n",
    "df_clean.dropna(inplace = True)"
   ]
  },
  {
   "cell_type": "code",
   "execution_count": 17,
   "metadata": {
    "colab": {},
    "colab_type": "code",
    "id": "pcq_-yFgY2np"
   },
   "outputs": [
    {
     "data": {
      "text/html": [
       "<div>\n",
       "<style scoped>\n",
       "    .dataframe tbody tr th:only-of-type {\n",
       "        vertical-align: middle;\n",
       "    }\n",
       "\n",
       "    .dataframe tbody tr th {\n",
       "        vertical-align: top;\n",
       "    }\n",
       "\n",
       "    .dataframe thead th {\n",
       "        text-align: right;\n",
       "    }\n",
       "</style>\n",
       "<table border=\"1\" class=\"dataframe\">\n",
       "  <thead>\n",
       "    <tr style=\"text-align: right;\">\n",
       "      <th></th>\n",
       "      <th>num_critic_for_reviews</th>\n",
       "      <th>duration</th>\n",
       "      <th>director_facebook_likes</th>\n",
       "      <th>actor_3_facebook_likes</th>\n",
       "      <th>actor_1_facebook_likes</th>\n",
       "      <th>gross</th>\n",
       "      <th>num_voted_users</th>\n",
       "      <th>cast_total_facebook_likes</th>\n",
       "      <th>facenumber_in_poster</th>\n",
       "      <th>num_user_for_reviews</th>\n",
       "      <th>budget</th>\n",
       "      <th>title_year</th>\n",
       "      <th>actor_2_facebook_likes</th>\n",
       "      <th>imdb_score</th>\n",
       "      <th>aspect_ratio</th>\n",
       "      <th>movie_facebook_likes</th>\n",
       "      <th>content_rating</th>\n",
       "    </tr>\n",
       "  </thead>\n",
       "  <tbody>\n",
       "    <tr>\n",
       "      <th>0</th>\n",
       "      <td>723.0</td>\n",
       "      <td>178.0</td>\n",
       "      <td>0.0</td>\n",
       "      <td>855.0</td>\n",
       "      <td>1000.0</td>\n",
       "      <td>760505847.0</td>\n",
       "      <td>886204</td>\n",
       "      <td>4834</td>\n",
       "      <td>0.0</td>\n",
       "      <td>3054.0</td>\n",
       "      <td>237000000.0</td>\n",
       "      <td>2009.0</td>\n",
       "      <td>936.0</td>\n",
       "      <td>7.9</td>\n",
       "      <td>1.780000</td>\n",
       "      <td>33000</td>\n",
       "      <td>PG-13</td>\n",
       "    </tr>\n",
       "    <tr>\n",
       "      <th>1</th>\n",
       "      <td>302.0</td>\n",
       "      <td>169.0</td>\n",
       "      <td>563.0</td>\n",
       "      <td>1000.0</td>\n",
       "      <td>40000.0</td>\n",
       "      <td>309404152.0</td>\n",
       "      <td>471220</td>\n",
       "      <td>48350</td>\n",
       "      <td>0.0</td>\n",
       "      <td>1238.0</td>\n",
       "      <td>300000000.0</td>\n",
       "      <td>2007.0</td>\n",
       "      <td>5000.0</td>\n",
       "      <td>7.1</td>\n",
       "      <td>2.350000</td>\n",
       "      <td>0</td>\n",
       "      <td>PG-13</td>\n",
       "    </tr>\n",
       "    <tr>\n",
       "      <th>2</th>\n",
       "      <td>602.0</td>\n",
       "      <td>148.0</td>\n",
       "      <td>0.0</td>\n",
       "      <td>161.0</td>\n",
       "      <td>11000.0</td>\n",
       "      <td>200074175.0</td>\n",
       "      <td>275868</td>\n",
       "      <td>11700</td>\n",
       "      <td>1.0</td>\n",
       "      <td>994.0</td>\n",
       "      <td>245000000.0</td>\n",
       "      <td>2015.0</td>\n",
       "      <td>393.0</td>\n",
       "      <td>6.8</td>\n",
       "      <td>2.350000</td>\n",
       "      <td>85000</td>\n",
       "      <td>PG-13</td>\n",
       "    </tr>\n",
       "    <tr>\n",
       "      <th>3</th>\n",
       "      <td>813.0</td>\n",
       "      <td>164.0</td>\n",
       "      <td>22000.0</td>\n",
       "      <td>23000.0</td>\n",
       "      <td>27000.0</td>\n",
       "      <td>448130642.0</td>\n",
       "      <td>1144337</td>\n",
       "      <td>106759</td>\n",
       "      <td>0.0</td>\n",
       "      <td>2701.0</td>\n",
       "      <td>250000000.0</td>\n",
       "      <td>2012.0</td>\n",
       "      <td>23000.0</td>\n",
       "      <td>8.5</td>\n",
       "      <td>2.350000</td>\n",
       "      <td>164000</td>\n",
       "      <td>PG-13</td>\n",
       "    </tr>\n",
       "    <tr>\n",
       "      <th>5</th>\n",
       "      <td>462.0</td>\n",
       "      <td>132.0</td>\n",
       "      <td>475.0</td>\n",
       "      <td>530.0</td>\n",
       "      <td>640.0</td>\n",
       "      <td>73058679.0</td>\n",
       "      <td>212204</td>\n",
       "      <td>1873</td>\n",
       "      <td>1.0</td>\n",
       "      <td>738.0</td>\n",
       "      <td>263700000.0</td>\n",
       "      <td>2012.0</td>\n",
       "      <td>632.0</td>\n",
       "      <td>6.6</td>\n",
       "      <td>2.350000</td>\n",
       "      <td>24000</td>\n",
       "      <td>PG-13</td>\n",
       "    </tr>\n",
       "    <tr>\n",
       "      <th>...</th>\n",
       "      <td>...</td>\n",
       "      <td>...</td>\n",
       "      <td>...</td>\n",
       "      <td>...</td>\n",
       "      <td>...</td>\n",
       "      <td>...</td>\n",
       "      <td>...</td>\n",
       "      <td>...</td>\n",
       "      <td>...</td>\n",
       "      <td>...</td>\n",
       "      <td>...</td>\n",
       "      <td>...</td>\n",
       "      <td>...</td>\n",
       "      <td>...</td>\n",
       "      <td>...</td>\n",
       "      <td>...</td>\n",
       "      <td>...</td>\n",
       "    </tr>\n",
       "    <tr>\n",
       "      <th>5033</th>\n",
       "      <td>143.0</td>\n",
       "      <td>77.0</td>\n",
       "      <td>291.0</td>\n",
       "      <td>8.0</td>\n",
       "      <td>291.0</td>\n",
       "      <td>424760.0</td>\n",
       "      <td>72639</td>\n",
       "      <td>368</td>\n",
       "      <td>0.0</td>\n",
       "      <td>371.0</td>\n",
       "      <td>7000.0</td>\n",
       "      <td>2004.0</td>\n",
       "      <td>45.0</td>\n",
       "      <td>7.0</td>\n",
       "      <td>1.850000</td>\n",
       "      <td>19000</td>\n",
       "      <td>PG-13</td>\n",
       "    </tr>\n",
       "    <tr>\n",
       "      <th>5034</th>\n",
       "      <td>35.0</td>\n",
       "      <td>80.0</td>\n",
       "      <td>0.0</td>\n",
       "      <td>0.0</td>\n",
       "      <td>0.0</td>\n",
       "      <td>70071.0</td>\n",
       "      <td>589</td>\n",
       "      <td>0</td>\n",
       "      <td>0.0</td>\n",
       "      <td>35.0</td>\n",
       "      <td>7000.0</td>\n",
       "      <td>2005.0</td>\n",
       "      <td>0.0</td>\n",
       "      <td>6.3</td>\n",
       "      <td>2.220403</td>\n",
       "      <td>74</td>\n",
       "      <td>Not Rated</td>\n",
       "    </tr>\n",
       "    <tr>\n",
       "      <th>5035</th>\n",
       "      <td>56.0</td>\n",
       "      <td>81.0</td>\n",
       "      <td>0.0</td>\n",
       "      <td>6.0</td>\n",
       "      <td>121.0</td>\n",
       "      <td>2040920.0</td>\n",
       "      <td>52055</td>\n",
       "      <td>147</td>\n",
       "      <td>0.0</td>\n",
       "      <td>130.0</td>\n",
       "      <td>7000.0</td>\n",
       "      <td>1992.0</td>\n",
       "      <td>20.0</td>\n",
       "      <td>6.9</td>\n",
       "      <td>1.370000</td>\n",
       "      <td>0</td>\n",
       "      <td>R</td>\n",
       "    </tr>\n",
       "    <tr>\n",
       "      <th>5037</th>\n",
       "      <td>14.0</td>\n",
       "      <td>95.0</td>\n",
       "      <td>0.0</td>\n",
       "      <td>133.0</td>\n",
       "      <td>296.0</td>\n",
       "      <td>4584.0</td>\n",
       "      <td>1338</td>\n",
       "      <td>690</td>\n",
       "      <td>1.0</td>\n",
       "      <td>14.0</td>\n",
       "      <td>9000.0</td>\n",
       "      <td>2011.0</td>\n",
       "      <td>205.0</td>\n",
       "      <td>6.4</td>\n",
       "      <td>2.220403</td>\n",
       "      <td>413</td>\n",
       "      <td>Not Rated</td>\n",
       "    </tr>\n",
       "    <tr>\n",
       "      <th>5042</th>\n",
       "      <td>43.0</td>\n",
       "      <td>90.0</td>\n",
       "      <td>16.0</td>\n",
       "      <td>16.0</td>\n",
       "      <td>86.0</td>\n",
       "      <td>85222.0</td>\n",
       "      <td>4285</td>\n",
       "      <td>163</td>\n",
       "      <td>0.0</td>\n",
       "      <td>84.0</td>\n",
       "      <td>1100.0</td>\n",
       "      <td>2004.0</td>\n",
       "      <td>23.0</td>\n",
       "      <td>6.6</td>\n",
       "      <td>1.850000</td>\n",
       "      <td>456</td>\n",
       "      <td>PG</td>\n",
       "    </tr>\n",
       "  </tbody>\n",
       "</table>\n",
       "<p>3828 rows × 17 columns</p>\n",
       "</div>"
      ],
      "text/plain": [
       "      num_critic_for_reviews  duration  director_facebook_likes  \\\n",
       "0                      723.0     178.0                      0.0   \n",
       "1                      302.0     169.0                    563.0   \n",
       "2                      602.0     148.0                      0.0   \n",
       "3                      813.0     164.0                  22000.0   \n",
       "5                      462.0     132.0                    475.0   \n",
       "...                      ...       ...                      ...   \n",
       "5033                   143.0      77.0                    291.0   \n",
       "5034                    35.0      80.0                      0.0   \n",
       "5035                    56.0      81.0                      0.0   \n",
       "5037                    14.0      95.0                      0.0   \n",
       "5042                    43.0      90.0                     16.0   \n",
       "\n",
       "      actor_3_facebook_likes  actor_1_facebook_likes        gross  \\\n",
       "0                      855.0                  1000.0  760505847.0   \n",
       "1                     1000.0                 40000.0  309404152.0   \n",
       "2                      161.0                 11000.0  200074175.0   \n",
       "3                    23000.0                 27000.0  448130642.0   \n",
       "5                      530.0                   640.0   73058679.0   \n",
       "...                      ...                     ...          ...   \n",
       "5033                     8.0                   291.0     424760.0   \n",
       "5034                     0.0                     0.0      70071.0   \n",
       "5035                     6.0                   121.0    2040920.0   \n",
       "5037                   133.0                   296.0       4584.0   \n",
       "5042                    16.0                    86.0      85222.0   \n",
       "\n",
       "      num_voted_users  cast_total_facebook_likes  facenumber_in_poster  \\\n",
       "0              886204                       4834                   0.0   \n",
       "1              471220                      48350                   0.0   \n",
       "2              275868                      11700                   1.0   \n",
       "3             1144337                     106759                   0.0   \n",
       "5              212204                       1873                   1.0   \n",
       "...               ...                        ...                   ...   \n",
       "5033            72639                        368                   0.0   \n",
       "5034              589                          0                   0.0   \n",
       "5035            52055                        147                   0.0   \n",
       "5037             1338                        690                   1.0   \n",
       "5042             4285                        163                   0.0   \n",
       "\n",
       "      num_user_for_reviews       budget  title_year  actor_2_facebook_likes  \\\n",
       "0                   3054.0  237000000.0      2009.0                   936.0   \n",
       "1                   1238.0  300000000.0      2007.0                  5000.0   \n",
       "2                    994.0  245000000.0      2015.0                   393.0   \n",
       "3                   2701.0  250000000.0      2012.0                 23000.0   \n",
       "5                    738.0  263700000.0      2012.0                   632.0   \n",
       "...                    ...          ...         ...                     ...   \n",
       "5033                 371.0       7000.0      2004.0                    45.0   \n",
       "5034                  35.0       7000.0      2005.0                     0.0   \n",
       "5035                 130.0       7000.0      1992.0                    20.0   \n",
       "5037                  14.0       9000.0      2011.0                   205.0   \n",
       "5042                  84.0       1100.0      2004.0                    23.0   \n",
       "\n",
       "      imdb_score  aspect_ratio  movie_facebook_likes content_rating  \n",
       "0            7.9      1.780000                 33000          PG-13  \n",
       "1            7.1      2.350000                     0          PG-13  \n",
       "2            6.8      2.350000                 85000          PG-13  \n",
       "3            8.5      2.350000                164000          PG-13  \n",
       "5            6.6      2.350000                 24000          PG-13  \n",
       "...          ...           ...                   ...            ...  \n",
       "5033         7.0      1.850000                 19000          PG-13  \n",
       "5034         6.3      2.220403                    74      Not Rated  \n",
       "5035         6.9      1.370000                     0              R  \n",
       "5037         6.4      2.220403                   413      Not Rated  \n",
       "5042         6.6      1.850000                   456             PG  \n",
       "\n",
       "[3828 rows x 17 columns]"
      ]
     },
     "execution_count": 17,
     "metadata": {},
     "output_type": "execute_result"
    }
   ],
   "source": [
    "df_clean.dropna()"
   ]
  },
  {
   "cell_type": "code",
   "execution_count": 18,
   "metadata": {
    "colab": {},
    "colab_type": "code",
    "id": "HnM0Jc4oqRUd"
   },
   "outputs": [
    {
     "data": {
      "text/plain": [
       "num_critic_for_reviews       0\n",
       "duration                     0\n",
       "director_facebook_likes      0\n",
       "actor_3_facebook_likes       0\n",
       "actor_1_facebook_likes       0\n",
       "gross                        0\n",
       "num_voted_users              0\n",
       "cast_total_facebook_likes    0\n",
       "facenumber_in_poster         0\n",
       "num_user_for_reviews         0\n",
       "budget                       0\n",
       "title_year                   0\n",
       "actor_2_facebook_likes       0\n",
       "imdb_score                   0\n",
       "aspect_ratio                 0\n",
       "movie_facebook_likes         0\n",
       "content_rating               0\n",
       "dtype: int64"
      ]
     },
     "execution_count": 18,
     "metadata": {},
     "output_type": "execute_result"
    }
   ],
   "source": [
    "# Навести суму відсутніх даних за кожною ознакою, щоб переконатись,\n",
    "#     що всі суми стали нулями (pandas.DataFrame.isnull().sum())\n",
    "# TODO\n",
    "df_clean.isnull().sum()"
   ]
  },
  {
   "cell_type": "code",
   "execution_count": 19,
   "metadata": {
    "colab": {},
    "colab_type": "code",
    "id": "PmbqTa6Fez4Y"
   },
   "outputs": [
    {
     "name": "stdout",
     "output_type": "stream",
     "text": [
      "Кол-во строк: 3828 ; Кол-во столбцов: 17\n"
     ]
    }
   ],
   "source": [
    "# Роздрукувати кількість рядків та стовпців даних, що залишились після очищення (pandas.DataFrame.shape)\n",
    "# TODO\n",
    "print('Кол-во строк:',df_clean.shape[0], '; Кол-во столбцов:',df_clean.shape[1])"
   ]
  },
  {
   "cell_type": "markdown",
   "metadata": {
    "colab_type": "text",
    "id": "ZSps0ie448Zu"
   },
   "source": [
    "**Навіщо потрібно обробляти пропущені дані? Зробіть висновки**\n",
    "\n",
    "TODO\n",
    "Основная причина оброботки пропущенных данных заключается в том, что далеко не все алгоритмы машинного обучения способны работать с NaN. \n",
    "Заметим, что изначальное свойство color имело только два значения. Значит во всез 5 тысячах записей повторялись данные о цвете (цветные и черно-белые фильмы). К тому же, там еще присутствовали NaN. Самым оптимальным вариантвом было удаление этого столбца. Так мы уменьшили размерность, избавились от потенциальной работы с еще одним категоральным полем и убрали NaN значения."
   ]
  },
  {
   "cell_type": "markdown",
   "metadata": {
    "colab_type": "text",
    "id": "xtEbCCH9MwCw"
   },
   "source": [
    "### Етап 4. Обробка категоріальних даних"
   ]
  },
  {
   "cell_type": "code",
   "execution_count": 20,
   "metadata": {
    "colab": {},
    "colab_type": "code",
    "id": "hCicfAS12y8z"
   },
   "outputs": [
    {
     "data": {
      "text/html": [
       "<div>\n",
       "<style scoped>\n",
       "    .dataframe tbody tr th:only-of-type {\n",
       "        vertical-align: middle;\n",
       "    }\n",
       "\n",
       "    .dataframe tbody tr th {\n",
       "        vertical-align: top;\n",
       "    }\n",
       "\n",
       "    .dataframe thead th {\n",
       "        text-align: right;\n",
       "    }\n",
       "</style>\n",
       "<table border=\"1\" class=\"dataframe\">\n",
       "  <thead>\n",
       "    <tr style=\"text-align: right;\">\n",
       "      <th></th>\n",
       "      <th>num_critic_for_reviews</th>\n",
       "      <th>duration</th>\n",
       "      <th>director_facebook_likes</th>\n",
       "      <th>actor_3_facebook_likes</th>\n",
       "      <th>actor_1_facebook_likes</th>\n",
       "      <th>gross</th>\n",
       "      <th>num_voted_users</th>\n",
       "      <th>cast_total_facebook_likes</th>\n",
       "      <th>facenumber_in_poster</th>\n",
       "      <th>num_user_for_reviews</th>\n",
       "      <th>...</th>\n",
       "      <th>content_rating_GP</th>\n",
       "      <th>content_rating_M</th>\n",
       "      <th>content_rating_NC-17</th>\n",
       "      <th>content_rating_Not Rated</th>\n",
       "      <th>content_rating_PG</th>\n",
       "      <th>content_rating_PG-13</th>\n",
       "      <th>content_rating_Passed</th>\n",
       "      <th>content_rating_R</th>\n",
       "      <th>content_rating_Unrated</th>\n",
       "      <th>content_rating_X</th>\n",
       "    </tr>\n",
       "  </thead>\n",
       "  <tbody>\n",
       "    <tr>\n",
       "      <th>0</th>\n",
       "      <td>723.0</td>\n",
       "      <td>178.0</td>\n",
       "      <td>0.0</td>\n",
       "      <td>855.0</td>\n",
       "      <td>1000.0</td>\n",
       "      <td>760505847.0</td>\n",
       "      <td>886204</td>\n",
       "      <td>4834</td>\n",
       "      <td>0.0</td>\n",
       "      <td>3054.0</td>\n",
       "      <td>...</td>\n",
       "      <td>0</td>\n",
       "      <td>0</td>\n",
       "      <td>0</td>\n",
       "      <td>0</td>\n",
       "      <td>0</td>\n",
       "      <td>1</td>\n",
       "      <td>0</td>\n",
       "      <td>0</td>\n",
       "      <td>0</td>\n",
       "      <td>0</td>\n",
       "    </tr>\n",
       "    <tr>\n",
       "      <th>1</th>\n",
       "      <td>302.0</td>\n",
       "      <td>169.0</td>\n",
       "      <td>563.0</td>\n",
       "      <td>1000.0</td>\n",
       "      <td>40000.0</td>\n",
       "      <td>309404152.0</td>\n",
       "      <td>471220</td>\n",
       "      <td>48350</td>\n",
       "      <td>0.0</td>\n",
       "      <td>1238.0</td>\n",
       "      <td>...</td>\n",
       "      <td>0</td>\n",
       "      <td>0</td>\n",
       "      <td>0</td>\n",
       "      <td>0</td>\n",
       "      <td>0</td>\n",
       "      <td>1</td>\n",
       "      <td>0</td>\n",
       "      <td>0</td>\n",
       "      <td>0</td>\n",
       "      <td>0</td>\n",
       "    </tr>\n",
       "    <tr>\n",
       "      <th>2</th>\n",
       "      <td>602.0</td>\n",
       "      <td>148.0</td>\n",
       "      <td>0.0</td>\n",
       "      <td>161.0</td>\n",
       "      <td>11000.0</td>\n",
       "      <td>200074175.0</td>\n",
       "      <td>275868</td>\n",
       "      <td>11700</td>\n",
       "      <td>1.0</td>\n",
       "      <td>994.0</td>\n",
       "      <td>...</td>\n",
       "      <td>0</td>\n",
       "      <td>0</td>\n",
       "      <td>0</td>\n",
       "      <td>0</td>\n",
       "      <td>0</td>\n",
       "      <td>1</td>\n",
       "      <td>0</td>\n",
       "      <td>0</td>\n",
       "      <td>0</td>\n",
       "      <td>0</td>\n",
       "    </tr>\n",
       "    <tr>\n",
       "      <th>3</th>\n",
       "      <td>813.0</td>\n",
       "      <td>164.0</td>\n",
       "      <td>22000.0</td>\n",
       "      <td>23000.0</td>\n",
       "      <td>27000.0</td>\n",
       "      <td>448130642.0</td>\n",
       "      <td>1144337</td>\n",
       "      <td>106759</td>\n",
       "      <td>0.0</td>\n",
       "      <td>2701.0</td>\n",
       "      <td>...</td>\n",
       "      <td>0</td>\n",
       "      <td>0</td>\n",
       "      <td>0</td>\n",
       "      <td>0</td>\n",
       "      <td>0</td>\n",
       "      <td>1</td>\n",
       "      <td>0</td>\n",
       "      <td>0</td>\n",
       "      <td>0</td>\n",
       "      <td>0</td>\n",
       "    </tr>\n",
       "    <tr>\n",
       "      <th>5</th>\n",
       "      <td>462.0</td>\n",
       "      <td>132.0</td>\n",
       "      <td>475.0</td>\n",
       "      <td>530.0</td>\n",
       "      <td>640.0</td>\n",
       "      <td>73058679.0</td>\n",
       "      <td>212204</td>\n",
       "      <td>1873</td>\n",
       "      <td>1.0</td>\n",
       "      <td>738.0</td>\n",
       "      <td>...</td>\n",
       "      <td>0</td>\n",
       "      <td>0</td>\n",
       "      <td>0</td>\n",
       "      <td>0</td>\n",
       "      <td>0</td>\n",
       "      <td>1</td>\n",
       "      <td>0</td>\n",
       "      <td>0</td>\n",
       "      <td>0</td>\n",
       "      <td>0</td>\n",
       "    </tr>\n",
       "  </tbody>\n",
       "</table>\n",
       "<p>5 rows × 28 columns</p>\n",
       "</div>"
      ],
      "text/plain": [
       "   num_critic_for_reviews  duration  director_facebook_likes  \\\n",
       "0                   723.0     178.0                      0.0   \n",
       "1                   302.0     169.0                    563.0   \n",
       "2                   602.0     148.0                      0.0   \n",
       "3                   813.0     164.0                  22000.0   \n",
       "5                   462.0     132.0                    475.0   \n",
       "\n",
       "   actor_3_facebook_likes  actor_1_facebook_likes        gross  \\\n",
       "0                   855.0                  1000.0  760505847.0   \n",
       "1                  1000.0                 40000.0  309404152.0   \n",
       "2                   161.0                 11000.0  200074175.0   \n",
       "3                 23000.0                 27000.0  448130642.0   \n",
       "5                   530.0                   640.0   73058679.0   \n",
       "\n",
       "   num_voted_users  cast_total_facebook_likes  facenumber_in_poster  \\\n",
       "0           886204                       4834                   0.0   \n",
       "1           471220                      48350                   0.0   \n",
       "2           275868                      11700                   1.0   \n",
       "3          1144337                     106759                   0.0   \n",
       "5           212204                       1873                   1.0   \n",
       "\n",
       "   num_user_for_reviews  ...  content_rating_GP  content_rating_M  \\\n",
       "0                3054.0  ...                  0                 0   \n",
       "1                1238.0  ...                  0                 0   \n",
       "2                 994.0  ...                  0                 0   \n",
       "3                2701.0  ...                  0                 0   \n",
       "5                 738.0  ...                  0                 0   \n",
       "\n",
       "   content_rating_NC-17  content_rating_Not Rated  content_rating_PG  \\\n",
       "0                     0                         0                  0   \n",
       "1                     0                         0                  0   \n",
       "2                     0                         0                  0   \n",
       "3                     0                         0                  0   \n",
       "5                     0                         0                  0   \n",
       "\n",
       "   content_rating_PG-13  content_rating_Passed  content_rating_R  \\\n",
       "0                     1                      0                 0   \n",
       "1                     1                      0                 0   \n",
       "2                     1                      0                 0   \n",
       "3                     1                      0                 0   \n",
       "5                     1                      0                 0   \n",
       "\n",
       "   content_rating_Unrated  content_rating_X  \n",
       "0                       0                 0  \n",
       "1                       0                 0  \n",
       "2                       0                 0  \n",
       "3                       0                 0  \n",
       "5                       0                 0  \n",
       "\n",
       "[5 rows x 28 columns]"
      ]
     },
     "execution_count": 20,
     "metadata": {},
     "output_type": "execute_result"
    }
   ],
   "source": [
    "# За наявності категоріальних даних, перетворити їх на числові (pandas.get_dummies)\n",
    "df_clean = pd.get_dummies(df_clean)\n",
    "df_clean.head()"
   ]
  },
  {
   "cell_type": "code",
   "execution_count": 21,
   "metadata": {
    "colab": {},
    "colab_type": "code",
    "id": "jfLydIntimp_"
   },
   "outputs": [
    {
     "name": "stdout",
     "output_type": "stream",
     "text": [
      "Кол-во строк: 3828 ; Кол-во столбцов: 28\n"
     ]
    }
   ],
   "source": [
    "# Роздрукувати кількість рядків та стовпців даних після перетворення категоріальних даних у числові\n",
    "# (pandas.DataFrame.shape)\n",
    "# TODO\n",
    "print('Кол-во строк:',df_clean.shape[0], '; Кол-во столбцов:',df_clean.shape[1])"
   ]
  },
  {
   "cell_type": "markdown",
   "metadata": {
    "colab_type": "text",
    "id": "sx2SrHr05iPM"
   },
   "source": [
    "**Що таке категоріальні дані? Чи можна їх ігнорувати?**\n",
    "Свими словами, категоральные данные - это данные, которые присваивают определенную категорию объекту. Причем, эти данные нельзя расположить по порядку на какой-то шкале. Например, данные о цвете. (Color = ['black','white','red']). Нельзя сказать, какой цвет лучше или однозначно расположить их в порядке возрастания или убывания. Этапом выше мы избавились от данныо о цвете. На 4-ом этапе мы превратили одно поле с рейтингом фильма в набор полей, чтобы была возможность как-то численно оценить появление рейтинга в выборке. Данное решение имеет как свои плюсы, так и минусы. Из плюсов, мы можем численно работать с рейтингом. Минусов же больше. Во-первых, мы значительно увеличили размерность задачи (появление множества новых колонок). Во-вторых, добавили разреженность в данные. По сути, у нас\n",
    "набор столбцов со значениями [0,1]. При большом количестве начальных данных, такое решение существенно увеличит размер самой базы данных и замедлит скорость работы алгоритмов обучения.\n",
    "\n"
   ]
  },
  {
   "cell_type": "markdown",
   "metadata": {
    "colab_type": "text",
    "id": "1WzDZwGDNFzm"
   },
   "source": [
    "### Етап 5. Поділ множини даних на тренувальний та тестовий"
   ]
  },
  {
   "cell_type": "code",
   "execution_count": 22,
   "metadata": {
    "colab": {},
    "colab_type": "code",
    "id": "RRSfN67dNQjb"
   },
   "outputs": [],
   "source": [
    "# Відокремити цільовий стовпець 'imdb_score' та матрицю ознак та роздрукувати їх\n",
    "X, y = df_clean.iloc[:, df_clean.columns != 'imdb_score'].values, df_clean.iloc[:, df_clean.columns == 'imdb_score'].values\n",
    "\n"
   ]
  },
  {
   "cell_type": "code",
   "execution_count": 23,
   "metadata": {
    "colab": {},
    "colab_type": "code",
    "id": "4WMT_SzmNyic"
   },
   "outputs": [],
   "source": [
    "# Розділити дані на тренувальний та тестовий набір у співвідношенні 3:1, роздрукувати їх розмірність \n",
    "# (sklearn.model_selection.train_test_split)\n",
    "from sklearn import model_selection\n",
    "\n",
    "X_train, X_test, y_train, y_test = \\\n",
    "    model_selection.train_test_split(X, y, test_size=0.25, random_state=0)"
   ]
  },
  {
   "cell_type": "markdown",
   "metadata": {
    "colab_type": "text",
    "id": "jj41K77D6SoC"
   },
   "source": [
    "**Навіщо потрібен цей етап? Чи можна його пропустити? Відповідь обґрунтуйте.**\n",
    "Этот этап небходим для проверки корректности работы обученной модели. На тренировочном наборе модель обучается, а на тестовом мы проверяем результаты на адекватность. \n",
    "Единственный вариант, когда можно пропустить разделение данных на два набора, это если эти данные собираются постоянно в одной и той же сфере деятельности и за достаточно короткий срок. То есть пока мы будем обучать модель на тех данных, что у нас есть, к моменту проверки на адекватность подоспеет тренировочный набор. Если же мы ограничены в количестве данных, то стоит разделить их, чтобы потом не искать новые.\n",
    "TODO"
   ]
  },
  {
   "cell_type": "markdown",
   "metadata": {
    "colab_type": "text",
    "id": "l-HGXW8IQGx0"
   },
   "source": [
    "### Етап 6. Нормалізація та стандартизація даних"
   ]
  },
  {
   "cell_type": "code",
   "execution_count": 24,
   "metadata": {
    "colab": {},
    "colab_type": "code",
    "id": "aXjMCYVmQLRS"
   },
   "outputs": [],
   "source": [
    "# Провести стандартизацію даних тренувального та тестового наборів\n",
    "# (sklearn.preprocessing.StandardScaler)\n",
    "from sklearn import preprocessing\n",
    "\n",
    "sc = preprocessing.StandardScaler()\n",
    "X_train_std = sc.fit_transform(X_train)\n",
    "X_test_std = sc.transform(X_test)"
   ]
  },
  {
   "cell_type": "code",
   "execution_count": 25,
   "metadata": {
    "colab": {},
    "colab_type": "code",
    "id": "a-CO4nuXQTxg"
   },
   "outputs": [
    {
     "data": {
      "text/plain": [
       "array([[-1.19066618, -0.44661264, -0.25758809, ...,  1.10394823,\n",
       "        -0.08162102, -0.04176831],\n",
       "       [-0.99640159, -0.09267574, -0.19237352, ...,  1.10394823,\n",
       "        -0.08162102, -0.04176831],\n",
       "       [-0.49455142, -0.57933897, -0.25630937, ..., -0.90583958,\n",
       "        -0.08162102, -0.04176831],\n",
       "       ...,\n",
       "       [ 0.44439407, -1.19872854, -0.20867716, ...,  1.10394823,\n",
       "        -0.08162102, -0.04176831],\n",
       "       [ 1.89328408, -0.97751798, -0.22977599, ...,  1.10394823,\n",
       "        -0.08162102, -0.04176831],\n",
       "       [ 1.50475491,  0.04005059, -0.25567001, ..., -0.90583958,\n",
       "        -0.08162102, -0.04176831]])"
      ]
     },
     "execution_count": 25,
     "metadata": {},
     "output_type": "execute_result"
    }
   ],
   "source": [
    "# Роздрукувати отримані набори\n",
    "# TODO\n",
    "X_train_std"
   ]
  },
  {
   "cell_type": "code",
   "execution_count": 26,
   "metadata": {
    "colab": {},
    "colab_type": "code",
    "id": "a-CO4nuXQTxg"
   },
   "outputs": [
    {
     "data": {
      "text/plain": [
       "array([[ 0.25822384, -0.18115997, -0.2620636 , ..., -0.90583958,\n",
       "        -0.08162102, -0.04176831],\n",
       "       [-0.8426088 ,  0.12853482, -0.26366199, ...,  1.10394823,\n",
       "        -0.08162102, -0.04176831],\n",
       "       [ 0.18537462, -0.44661264, -0.2665391 , ..., -0.90583958,\n",
       "        -0.08162102, -0.04176831],\n",
       "       ...,\n",
       "       [-0.67262729,  2.6945773 , -0.2665391 , ..., -0.90583958,\n",
       "        -0.08162102, -0.04176831],\n",
       "       [-0.88308059,  2.87154575, -0.2665391 , ..., -0.90583958,\n",
       "        -0.08162102, -0.04176831],\n",
       "       [-0.68072165,  0.48247171, -0.26142424, ...,  1.10394823,\n",
       "        -0.08162102, -0.04176831]])"
      ]
     },
     "execution_count": 26,
     "metadata": {},
     "output_type": "execute_result"
    }
   ],
   "source": [
    "X_test_std"
   ]
  },
  {
   "cell_type": "markdown",
   "metadata": {
    "colab_type": "text",
    "id": "CqcmjtG46iv6"
   },
   "source": [
    "**Чи можна не нормалізувати дані? Відповідь обґрунтуйте**.\n",
    "\n",
    "TODO\n",
    "Я думаю, что можно пропустить нормализацию данных только в случае одинакового масштаба оных. Это обосновано тем, что алгоритмы машинного обучания лучше работают с данными, которые находятся в одной шкале."
   ]
  },
  {
   "cell_type": "markdown",
   "metadata": {
    "colab_type": "text",
    "id": "KfLByminQ3ZW"
   },
   "source": [
    "### Етап 7. Зменшення розмірності задачі"
   ]
  },
  {
   "cell_type": "code",
   "execution_count": 27,
   "metadata": {
    "colab": {},
    "colab_type": "code",
    "id": "JZKp1E0yQewB"
   },
   "outputs": [
    {
     "data": {
      "text/plain": [
       "array([1.67722246e-01, 7.97266868e-02, 6.69655500e-02, 6.29161324e-02,\n",
       "       5.04060867e-02, 4.29340791e-02, 4.14624267e-02, 3.96117057e-02,\n",
       "       3.94653576e-02, 3.87708588e-02, 3.86136972e-02, 3.85095863e-02,\n",
       "       3.83205785e-02, 3.79061989e-02, 3.55606677e-02, 3.34575875e-02,\n",
       "       3.18439441e-02, 3.11862128e-02, 2.56479018e-02, 1.57515165e-02,\n",
       "       1.44815151e-02, 1.34557525e-02, 8.66214144e-03, 6.55014136e-03,\n",
       "       7.14282946e-05, 3.30773808e-32, 7.41790545e-34])"
      ]
     },
     "execution_count": 27,
     "metadata": {},
     "output_type": "execute_result"
    }
   ],
   "source": [
    "# За допомогою методу головних компонент, зменшити розмірність задачі (sklearn.decomposition.PCA)\n",
    "from sklearn import decomposition\n",
    "\n",
    "pca = decomposition.PCA()\n",
    "X_train_pca = pca.fit_transform(X_train_std)\n",
    "pca.explained_variance_ratio_"
   ]
  },
  {
   "cell_type": "code",
   "execution_count": 28,
   "metadata": {
    "colab": {},
    "colab_type": "code",
    "id": "K-x8IBM9RNd0"
   },
   "outputs": [
    {
     "data": {
      "image/png": "[encoded data removed]",
      "text/plain": [
       "<Figure size 432x288 with 1 Axes>"
      ]
     },
     "metadata": {
      "needs_background": "light"
     },
     "output_type": "display_data"
    }
   ],
   "source": [
    "# Побудувати гістограму для коефіцієнтів дисперсії\n",
    "import matplotlib.pyplot as plt\n",
    "\n",
    "var_size = pca.explained_variance_ratio_.size\n",
    "plt.bar(range(1, var_size + 1), pca.explained_variance_ratio_, alpha=0.5, align='center')\n",
    "plt.step(range(1, var_size + 1), np.cumsum(pca.explained_variance_ratio_), where='mid')\n",
    "plt.ylabel('Explained variance ratio')\n",
    "plt.xlabel('Principal components')\n",
    "plt.show()"
   ]
  },
  {
   "cell_type": "markdown",
   "metadata": {
    "colab_type": "text",
    "id": "KfQ-xBUw_HVS"
   },
   "source": [
    "**Пояснити, що зображено на гістограмі та які висновки можна зробити**\n",
    "На гистограмме показано отношение дисперсий главных коспонент к общей дисперсии. Так как сумма всех дисперсий главных коспонент равна общей дисперсии и, как видим, после 15 компоненты вклад в общую дисперсию уменьшается, можно сделать такой вывод: для уменьшения размерности задачи можно взять 10-15 кглавных коспонент, тогда отношение к общей дисперсии будет 0.6-0.8 соответственно.\n",
    "TODO"
   ]
  },
  {
   "cell_type": "code",
   "execution_count": 29,
   "metadata": {
    "colab": {},
    "colab_type": "code",
    "id": "yyVUS130RrRZ"
   },
   "outputs": [],
   "source": [
    "# Обрати довільну кількість компонент та зменшити кількість ознак відповідно\n",
    "pca = decomposition.PCA(n_components=10)\n",
    "X_train_pca = pca.fit_transform(X_train_std)\n",
    "X_test_pca = pca.transform(X_test_std)"
   ]
  },
  {
   "cell_type": "code",
   "execution_count": 30,
   "metadata": {
    "colab": {},
    "colab_type": "code",
    "id": "nT-m1q3tdztA"
   },
   "outputs": [
    {
     "data": {
      "image/png": "[encoded data removed]",
      "text/plain": [
       "<Figure size 432x288 with 1 Axes>"
      ]
     },
     "metadata": {
      "needs_background": "light"
     },
     "output_type": "display_data"
    }
   ],
   "source": [
    "# Побудувати графічну інтерпретацію отриманих результатів\n",
    "plt.scatter(X_train_pca[:, 0], X_train_pca[:, 1])\n",
    "plt.xlabel('PC 1')\n",
    "plt.ylabel('PC 2')\n",
    "plt.show()"
   ]
  },
  {
   "cell_type": "markdown",
   "metadata": {
    "colab_type": "text",
    "id": "cVQY3u8g64F1"
   },
   "source": [
    "**Коли виникає необхідність зменшення розмірності задачі? Чи можна обійтись без цього етапу?  Наведіть приклад.**\n",
    "Необходимость в уменьшении размерности задачи возникает, когда модель работает на тренировочном наборе работает лучше, чем на тестовом. Это свидетельствует о переобученности модели. Снижение размерности задачи способствует ускорению и упрощению обучения.\n",
    "\n",
    "Без уменьшения размерности можно обойтись, когда модель работает одинаково хорошо как на тренировочных, так и на тестовых данных.\n",
    "\n",
    "Например, уменьшением размерности можно пренебречь, когда свойства модели не имеют сильной связи. Потому что, по сути, выдиление главных компонент - это, по сути, создание нового подпространства свойств, когда, например, два взаимосвязанных свойства сливаются воедино.\n",
    "TODO"
   ]
  },
  {
   "cell_type": "markdown",
   "metadata": {
    "colab_type": "text",
    "id": "NBtQj4zsj_AH"
   },
   "source": [
    "### Етап 8. Збереження отриманих даних"
   ]
  },
  {
   "cell_type": "code",
   "execution_count": 40,
   "metadata": {
    "colab": {},
    "colab_type": "code",
    "id": "aNqGoYSnl4ud"
   },
   "outputs": [
    {
     "name": "stdout",
     "output_type": "stream",
     "text": [
      "Тренировочные данные: (2871, 10) Тестовые данные: (957, 10)\n"
     ]
    }
   ],
   "source": [
    " # Перевірити, що кількість рядків  між X, y співпадають\n",
    "# у тестовому та тренувальному наборах (numpy.shape)\n",
    "# TODO\n",
    "print(\"Тренировочные данные:\" ,X_train_pca.shape, \"Тестовые данные:\", X_test_pca.shape)\n"
   ]
  },
  {
   "cell_type": "code",
   "execution_count": null,
   "metadata": {
    "colab": {},
    "colab_type": "code",
    "id": "zfQy5ugUlRvr"
   },
   "outputs": [],
   "source": [
    "# Зберегти дані у файл pickle (pickle.dump)\n",
    "import pickle\n",
    "\n",
    "with open('imdb_train_data_pca.pkl','wb') as f:\n",
    "    pickle.dump(X_train_pca, f)\n",
    "\n",
    "with open('imdb_train_data_std.pkl','wb') as f:\n",
    "    pickle.dump(X_train_std, f)\n",
    "\n",
    "with open('imdb_y_train.pkl','wb') as f:\n",
    "    pickle.dump(y_train, f)\n",
    "\n",
    "with open('imdb_test_data_pca.pkl','wb') as f:\n",
    "    pickle.dump(X_test_pca, f)\n",
    "\n",
    "with open('imdb_test_data_std.pkl','wb') as f:\n",
    "    pickle.dump(X_test_std, f)\n",
    "\n",
    "with open('imdb_y_test.pkl','wb') as f:\n",
    "    pickle.dump(y_test, f)"
   ]
  },
  {
   "cell_type": "markdown",
   "metadata": {
    "colab_type": "text",
    "id": "NRkxUur17OCF"
   },
   "source": [
    "**Пояснити необхідність збереження проміжних даних у файл та описати переваги використання**\n",
    "Промежуточные данные необходимо сохранять для того, чтобы в будущем, при необходимости, у нас была возможность откатиться и изменить их.\n",
    "TODO"
   ]
  },
  {
   "cell_type": "markdown",
   "metadata": {
    "colab_type": "text",
    "id": "c3bwDS6Qk5_Z"
   },
   "source": [
    "## Висновки\n",
    "\n",
    "В данной лабораторной работе мы обработали входные данные для дальнейшнего обучения модели. Также сохранили промежуточные данные, чтобы в будущем была возможность их откорректировать или подобрать более эффективный способ обработки.\n",
    "TODO"
   ]
  },
  {
   "cell_type": "markdown",
   "metadata": {
    "colab_type": "text",
    "id": "c3bwDS6Qk5_Z"
   },
   "source": [
    "Примечание\n",
    "\n",
    "Для комментариев в некоторых пунктах была синтезирована информация с таких источников:\n",
    "https://habr.com/ru/post/304214/\n",
    "https://ro-che.info/articles/2017-12-11-pca-explained-variance#:~:text=The%20fraction%20of%20variance%20explained,divide%20by%20the%20total%20variance."
   ]
  }
 ],
 "metadata": {
  "accelerator": "GPU",
  "colab": {
   "collapsed_sections": [],
   "name": "preprocessing_student.ipynb",
   "provenance": [],
   "toc_visible": true
  },
  "kernelspec": {
   "display_name": "Python 3",
   "language": "python",
   "name": "python3"
  },
  "language_info": {
   "codemirror_mode": {
    "name": "ipython",
    "version": 3
   },
   "file_extension": ".py",
   "mimetype": "text/x-python",
   "name": "python",
   "nbconvert_exporter": "python",
   "pygments_lexer": "ipython3",
   "version": "3.8.3"
  }
 },
 "nbformat": 4,
 "nbformat_minor": 4
}
